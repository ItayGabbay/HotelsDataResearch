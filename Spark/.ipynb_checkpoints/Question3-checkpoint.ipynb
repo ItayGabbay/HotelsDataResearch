{
 "cells": [
  {
   "cell_type": "markdown",
   "metadata": {},
   "source": [
    "** Initialization of spark **"
   ]
  },
  {
   "cell_type": "code",
   "execution_count": 1,
   "metadata": {},
   "outputs": [],
   "source": [
    "import findspark\n",
    "findspark.init()\n",
    "\n",
    "from pyspark import SparkContext\n",
    "from pyspark.sql import SparkSession\n",
    "from pyspark.sql.functions import desc\n",
    "\n",
    "spark = SparkSession.builder \\\n",
    "            .master('local') \\\n",
    "            .appName('hotels') \\\n",
    "            .getOrCreate()\n",
    "            \n",
    "sc = spark.sparkContext "
   ]
  },
  {
   "cell_type": "code",
   "execution_count": 2,
   "metadata": {},
   "outputs": [],
   "source": [
    "def mapByHotelName(row):\n",
    "    key = row['Hotel Name']\n",
    "    val = 1\n",
    "    return (key,val)\n",
    "\n",
    "def reduceByCount(val1, val2):\n",
    "    return (val1 + val2)\n",
    "\n",
    "hotels_num = 150\n",
    "\n",
    "hotels_rdd = spark.read.csv('../input/Hotels_Data_Changed.csv',header=True).rdd\n",
    "hotel_names_top150 = hotels_rdd \\\n",
    "            .map(mapByHotelName) \\\n",
    "            .reduceByKey(reduceByCount) \\\n",
    "            .sortBy(lambda x: x[1], ascending = False) \\\n",
    "            .map(lambda x: x[0]) \\\n",
    "            .take(hotels_num)\n",
    "            \n",
    "hotels_top = hotels_rdd.filter(lambda x: x['Hotel Name'] in hotel_names_top150)"
   ]
  },
  {
   "cell_type": "code",
   "execution_count": 3,
   "metadata": {},
   "outputs": [],
   "source": [
    "def mapByCheckinDate(row):\n",
    "    key = row['Checkin Date']\n",
    "    val = 1\n",
    "    return (key,val)\n",
    "\n",
    "checkin_date_num = 40\n",
    "\n",
    "checkin_top_keys = hotels_top \\\n",
    "            .map(mapByCheckinDate) \\\n",
    "            .reduceByKey(reduceByCount) \\\n",
    "            .sortBy(lambda x: x[1], ascending = False) \\\n",
    "            .map(lambda x: x[0]) \\\n",
    "            .take(checkin_date_num)\n",
    "            \n",
    "top_hotels_in_date = hotels_top.filter(lambda x: x['Checkin Date'] in checkin_top_keys)"
   ]
  },
  {
   "cell_type": "code",
   "execution_count": 4,
   "metadata": {},
   "outputs": [],
   "source": [
    "def mapHotelDatesDiscountCode(row):\n",
    "    key = (row['Hotel Name'],row['Checkin Date'],row['Discount Code'])\n",
    "    val = float(row['Discount Price'])\n",
    "    return (key,val)\n",
    "\n",
    "def reduceByHotelAndCheckinDate(val1,val2):\n",
    "    if val1 == -1:\n",
    "        return val2\n",
    "    elif val2 == -1:\n",
    "        return val1\n",
    "    else:\n",
    "        return min(val1,val2)\n",
    "\n",
    "def createAllKeys(hotels,dates,codes):\n",
    "    names_keys = sc.parallelize(hotels)\n",
    "    dates_keys = sc.parallelize(dates)\n",
    "    codes_keys = sc.parallelize(codes)\n",
    "    return names_keys.cartesian(dates_keys.cartesian(codes_keys)).map(lambda x: (x[0], x[1][0], x[1][1]))\n",
    "\n",
    "hotels_date_price_missing_data = createAllKeys(hotel_names_top150,checkin_top_keys,['1','2','3','4']).map(lambda x: (x, -1))\n",
    "\n",
    "hotels_date_price = \\\n",
    "        top_hotels_in_date \\\n",
    "                .map(mapHotelDatesDiscountCode)\n",
    "            \n",
    "hotels_date_price_all_values = sc.union([hotels_date_price_missing_data, hotels_date_price]).reduceByKey(reduceByHotelAndCheckinDate)\n",
    "hotels_date_price_all_values = hotels_date_price_all_values.map(lambda x: (x[0][0], x[1])).groupByKey().mapValues(list)"
   ]
  },
  {
   "cell_type": "code",
   "execution_count": 29,
   "metadata": {},
   "outputs": [],
   "source": [
    "def normalise(prices):\n",
    "    filtered_prices = list(filter(lambda x: x != -1, prices))\n",
    "    \n",
    "    if len(filtered_prices) == 0:\n",
    "        return prices\n",
    "    \n",
    "    max_price = max(filtered_prices)\n",
    "    min_price = min(filtered_prices)\n",
    "    \n",
    "    diff = max_price - min_price\n",
    "    \n",
    "    arr = []\n",
    "    for price in prices:\n",
    "        if price == -1:\n",
    "            arr.append(price)\n",
    "        elif diff == 0:\n",
    "            arr.append(0)\n",
    "        else:\n",
    "            arr.append(float(price - min_price) * 100/diff)\n",
    "            \n",
    "    return arr\n",
    "\n",
    "normalised_hotels_prices = hotels_date_price_all_values.map(lambda x: (x[0], normalise(x[1])))\n",
    "normalised_prices = normalised_hotels_prices.values()"
   ]
  },
  {
   "cell_type": "code",
   "execution_count": 48,
   "metadata": {},
   "outputs": [
    {
     "name": "stdout",
     "output_type": "stream",
     "text": [
      "With K=150\n",
      "Within Set Sum of Squared Errors = 0.0\n",
      "------------------------------------------------------------\n"
     ]
    }
   ],
   "source": [
    "from pyspark.mllib.clustering import BisectingKMeans, BisectingKMeansModel\n",
    "\n",
    "k=hotels_num\n",
    "model = BisectingKMeans().train(normalised_prices, k=k)\n",
    "cost = model.computeCost(normalised_prices)\n",
    "print(\"With K={}\".format(k))\n",
    "print(\"Within Set Sum of Squared Errors = \" + str(cost))\n",
    "print('--'*30)"
   ]
  },
  {
   "cell_type": "code",
   "execution_count": 52,
   "metadata": {},
   "outputs": [
    {
     "data": {
      "image/png": "[encoded data removed]",
      "text/plain": [
       "<matplotlib.figure.Figure at 0xe541250>"
      ]
     },
     "metadata": {},
     "output_type": "display_data"
    }
   ],
   "source": [
    "from scipy.spatial.distance import pdist\n",
    "from scipy.cluster.hierarchy import linkage, dendrogram\n",
    "from matplotlib import pyplot as plt\n",
    "\n",
    "plt.figure(figsize=(25, 10))\n",
    "plt.title('Hierarchical Clustering Dendrogram')\n",
    "plt.xlabel('a')\n",
    "plt.ylabel('b')\n",
    "\n",
    "dendrogram(\n",
    "linkage(model.clusterCenters, method='complete'),\n",
    "    leaf_rotation=90.,  # rotates the x axis labels\n",
    "    leaf_font_size=8.,  # font size for the x axis labels\n",
    "    truncate_mode='lastp',  # show only the last p merged clusters\n",
    "    p=k,  # show only the last p merged clusters\n",
    "    show_contracted=True,  # to get a distribution impression in truncated branches\n",
    ")\n",
    "plt.show()"
   ]
  },
  {
   "cell_type": "code",
   "execution_count": null,
   "metadata": {},
   "outputs": [],
   "source": []
  },
  {
   "cell_type": "code",
   "execution_count": null,
   "metadata": {},
   "outputs": [],
   "source": []
  }
 ],
 "metadata": {
  "kernelspec": {
   "display_name": "Python 3",
   "language": "python",
   "name": "python3"
  },
  "language_info": {
   "codemirror_mode": {
    "name": "ipython",
    "version": 3
   },
   "file_extension": ".py",
   "mimetype": "text/x-python",
   "name": "python",
   "nbconvert_exporter": "python",
   "pygments_lexer": "ipython3",
   "version": "3.6.4"
  }
 },
 "nbformat": 4,
 "nbformat_minor": 2
}
