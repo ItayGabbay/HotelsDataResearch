{
 "cells": [
  {
   "cell_type": "code",
   "execution_count": 307,
   "metadata": {},
   "outputs": [],
   "source": [
    "import findspark\n",
    "findspark.init()\n",
    "\n",
    "from pyspark import SparkContext\n",
    "from pyspark.sql import SparkSession\n",
    "from pyspark.sql.functions import desc\n",
    "\n",
    "spark = SparkSession.builder \\\n",
    "            .master('local') \\\n",
    "            .appName('hotels') \\\n",
    "            .getOrCreate()\n",
    "            \n",
    "sc = spark.sparkContext "
   ]
  },
  {
   "cell_type": "code",
   "execution_count": 308,
   "metadata": {},
   "outputs": [],
   "source": [
    "def mapByHotelName(row):\n",
    "    key = row['Hotel Name']\n",
    "    val = 1\n",
    "    return (key,val)\n",
    "\n",
    "def reduceByCount(val1, val2):\n",
    "    return (val1 + val2)\n",
    "    \n",
    "hotels_rdd = spark.read.csv('../input/Hotels_Data_Changed.csv',header=True).rdd\n",
    "hotel_names_top150 = hotels_rdd \\\n",
    "            .map(mapByHotelName) \\\n",
    "            .reduceByKey(reduceByCount) \\\n",
    "            .sortBy(lambda x: x[1], ascending = False) \\\n",
    "            .map(lambda x: x[0]) \\\n",
    "            .take(150)\n",
    "            \n",
    "hotels_top150 = hotels_rdd.filter(lambda x: x['Hotel Name'] in hotel_names_top150)"
   ]
  },
  {
   "cell_type": "code",
   "execution_count": 309,
   "metadata": {},
   "outputs": [],
   "source": [
    "def mapByCheckinDate(row):\n",
    "    key = row['Checkin Date']\n",
    "    val = 1\n",
    "    return (key,val)\n",
    "\n",
    "checkin_top40_keys = hotels_top150 \\\n",
    "            .map(mapByCheckinDate) \\\n",
    "            .reduceByKey(reduceByCount) \\\n",
    "            .sortBy(lambda x: x[1], ascending = False) \\\n",
    "            .map(lambda x: x[0]) \\\n",
    "            .take(40)\n",
    "            \n",
    "top_hotels_in_date = hotels_top150.filter(lambda x: x['Checkin Date'] in checkin_top40_keys)"
   ]
  },
  {
   "cell_type": "code",
   "execution_count": 357,
   "metadata": {},
   "outputs": [],
   "source": [
    "def mapHotelDatesDiscountCode(row):\n",
    "    key = (row['Hotel Name'],row['Checkin Date'],row['Discount Code'])\n",
    "    val = float(row['Discount Price'])\n",
    "    return (key,val)\n",
    "\n",
    "def reduceByHotelAndCheckinDate(val1,val2):\n",
    "    if val1 == -1:\n",
    "        return val2\n",
    "    elif val2 == -1:\n",
    "        return val1\n",
    "    else:\n",
    "        return min(val1,val2)\n",
    "\n",
    "def createAllKeys(hotels,dates,codes):\n",
    "    names_keys = sc.parallelize(hotels)\n",
    "    dates_keys = sc.parallelize(dates)\n",
    "    codes_keys = sc.parallelize(codes)\n",
    "    return names_keys.cartesian(dates_keys.cartesian(codes_keys)).map(lambda x: (x[0], x[1][0], x[1][1]))\n",
    "\n",
    "hotels_date_price_missing_data = createAllKeys(hotel_names_top150,checkin_top40_keys,['1','2','3','4']).map(lambda x: (x, -1))\n",
    "\n",
    "hotels_date_price = \\\n",
    "        top_hotels_in_date \\\n",
    "                .map(mapHotelDatesDiscountCode)\n",
    "            \n",
    "hotels_date_price_all_values = sc.union([hotels_date_price_missing_data, hotels_date_price]).reduceByKey(reduceByHotelAndCheckinDate)\n",
    "hotels_date_price_all_values = hotels_date_price_all_values.map(lambda x: (x[0][0], x[1])).groupByKey().mapValues(list)"
   ]
  },
  {
   "cell_type": "code",
   "execution_count": 367,
   "metadata": {},
   "outputs": [],
   "source": [
    "def normalise(prices):\n",
    "    max_price = max(prices)\n",
    "    min_price = min(filter(lambda x: x != -1, prices))\n",
    "    \n",
    "    diff = max_price - min_price\n",
    "    \n",
    "    arr = []\n",
    "    for price in prices:\n",
    "        if price != -1:\n",
    "            arr.append(float(price - min_price) * 100/diff)\n",
    "        else:\n",
    "            arr.append(price)\n",
    "            \n",
    "    return arr\n",
    "\n",
    "normalised_hotels_prices = hotels_date_price_all_values.map(lambda x: (x[0], normalise(x[1])))"
   ]
  },
  {
   "cell_type": "code",
   "execution_count": 366,
   "metadata": {},
   "outputs": [
    {
     "data": {
      "text/plain": [
       "-1"
      ]
     },
     "execution_count": 366,
     "metadata": {},
     "output_type": "execute_result"
    }
   ],
   "source": []
  },
  {
   "cell_type": "code",
   "execution_count": null,
   "metadata": {},
   "outputs": [],
   "source": []
  }
 ],
 "metadata": {
  "kernelspec": {
   "display_name": "Python 3",
   "language": "python",
   "name": "python3"
  },
  "language_info": {
   "codemirror_mode": {
    "name": "ipython",
    "version": 3
   },
   "file_extension": ".py",
   "mimetype": "text/x-python",
   "name": "python",
   "nbconvert_exporter": "python",
   "pygments_lexer": "ipython3",
   "version": "3.6.4"
  }
 },
 "nbformat": 4,
 "nbformat_minor": 2
}
