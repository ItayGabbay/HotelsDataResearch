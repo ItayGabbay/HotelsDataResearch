{
 "cells": [
  {
   "cell_type": "code",
   "execution_count": 56,
   "metadata": {},
   "outputs": [],
   "source": [
    "import findspark\n",
    "findspark.init()\n",
    "\n",
    "from pyspark import SparkContext\n",
    "from pyspark.sql import SparkSession\n",
    "from pyspark.sql.functions import desc\n",
    "\n",
    "spark = SparkSession.builder \\\n",
    "            .master('local') \\\n",
    "            .appName('hotels') \\\n",
    "            .getOrCreate()\n",
    "            \n",
    "sc = spark.sparkContext "
   ]
  },
  {
   "cell_type": "code",
   "execution_count": 136,
   "metadata": {},
   "outputs": [],
   "source": [
    "def mapByHotelName(row):\n",
    "    key = row['Hotel Name']\n",
    "    val = 1\n",
    "    return (key,val)\n",
    "\n",
    "def reduceByCount(val1, val2):\n",
    "    return (val1 + val2)\n",
    "            \n",
    "def getTopHotels(hotels_filter, key):\n",
    "    return key in hotels_filter\n",
    "    \n",
    "hotels_rdd = spark.read.csv('../input/Hotels_Data_Changed.csv',header=True).rdd\n",
    "hotel_names_top150 = hotels_rdd \\\n",
    "            .map(mapByHotelName) \\\n",
    "            .reduceByKey(reduceByCount) \\\n",
    "            .sortBy(lambda x: x[1], ascending = False) \\\n",
    "            .take(150)\n",
    "            \n",
    "hotel_names_top150_keys = sc.parallelize(hotel_names_top150).keys().collect()\n",
    "            \n",
    "hotels_top150 = hotels_rdd.filter(lambda x: getTopHotels(hotel_names_top150_keys,x['Hotel Name']))"
   ]
  },
  {
   "cell_type": "code",
   "execution_count": 143,
   "metadata": {},
   "outputs": [],
   "source": [
    "def mapByCheckinDate(row):\n",
    "    key = row['Checkin Date']\n",
    "    val = 1\n",
    "    return (key,val)\n",
    "\n",
    "checkin_top40 = hotels_top150 \\\n",
    "            .map(mapByCheckinDate) \\\n",
    "            .reduceByKey(reduceByCount) \\\n",
    "            .sortBy(lambda x: x[1], ascending = False) \\\n",
    "            .take(40)"
   ]
  },
  {
   "cell_type": "code",
   "execution_count": null,
   "metadata": {},
   "outputs": [],
   "source": []
  },
  {
   "cell_type": "code",
   "execution_count": null,
   "metadata": {},
   "outputs": [],
   "source": []
  },
  {
   "cell_type": "code",
   "execution_count": 54,
   "metadata": {},
   "outputs": [],
   "source": []
  },
  {
   "cell_type": "code",
   "execution_count": null,
   "metadata": {},
   "outputs": [],
   "source": []
  }
 ],
 "metadata": {
  "kernelspec": {
   "display_name": "Python 3",
   "language": "python",
   "name": "python3"
  },
  "language_info": {
   "codemirror_mode": {
    "name": "ipython",
    "version": 3
   },
   "file_extension": ".py",
   "mimetype": "text/x-python",
   "name": "python",
   "nbconvert_exporter": "python",
   "pygments_lexer": "ipython3",
   "version": "3.6.4"
  }
 },
 "nbformat": 4,
 "nbformat_minor": 2
}
