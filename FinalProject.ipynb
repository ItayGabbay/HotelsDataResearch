{
 "cells": [
  {
   "cell_type": "markdown",
   "metadata": {},
   "source": [
    "# Introduction\n",
    "\n",
    "This notebook is the final project of the data science course in the College of Management.\n",
    "Written By: \n",
    "* Itay Gabbay\n",
    "* Matan Perelmuter\n",
    "* Amit Ben Ami\n",
    "* Danielle Zror\n",
    "* Gal Wurmbrand.\n",
    "\n",
    "## Data\n",
    "The Hotels dataset is a collection of snapshots of prices from several NYC Hotels, taken between 2015-2016"
   ]
  },
  {
   "cell_type": "markdown",
   "metadata": {},
   "source": [
    "Now, Let's import the necessary libraries and manipulate the data.\n",
    "Note that we also create new columns like DayDiff and calculating the discount value and percentage from the original price."
   ]
  },
  {
   "cell_type": "code",
   "execution_count": 18,
   "metadata": {},
   "outputs": [],
   "source": [
    "# Imports\n",
    "import warnings\n",
    "warnings.filterwarnings(\"ignore\", category=DeprecationWarning)\n",
    "# pandas\n",
    "import pandas as pd\n",
    "import numpy as np\n",
    "from datetime import date\n",
    "\n",
    "# visualization\n",
    "import seaborn as sns\n",
    "import matplotlib.pyplot as plt\n",
    "%matplotlib inline\n",
    "\n",
    "hotels_df = pd.read_csv(\"./input/hotels_data.csv\")\n",
    "\n",
    "hotels_df.head()\n",
    "\n",
    "# Converting to date\n",
    "hotels_df[\"Snapshot Date\"] = pd.to_datetime(hotels_df[\"Snapshot Date\"])#, format='%m-/%d-/%y %-H:%M')\n",
    "hotels_df[\"Checkin Date\"] = pd.to_datetime(hotels_df[\"Checkin Date\"])#, format='%m-/%d-/%y %H-:%M')\n",
    "\n",
    "hotels_df[\"DayDiff\"] = (hotels_df[\"Checkin Date\"].sub(hotels_df[\"Snapshot Date\"], axis=0)).apply(lambda x: x.days)\n",
    "hotels_df[\"WeekDay\"] = hotels_df[\"Checkin Date\"].apply(lambda x: x.strftime('%a'))\n",
    "hotels_df[\"DiscountDiff\"] = hotels_df[\"Original Price\"] - hotels_df[\"Discount Price\"]\n",
    "hotels_df[\"DiscountPerc\"] = (hotels_df[\"DiscountDiff\"]/hotels_df[\"Original Price\"]) * 100\n",
    "\n"
   ]
  },
  {
   "cell_type": "markdown",
   "metadata": {},
   "source": [
    "##### Let's explore our converted dataset, and save it to a new csv file"
   ]
  },
  {
   "cell_type": "code",
   "execution_count": 19,
   "metadata": {},
   "outputs": [
    {
     "name": "stdout",
     "output_type": "stream",
     "text": [
      "<class 'pandas.core.frame.DataFrame'>\n",
      "RangeIndex: 187848 entries, 0 to 187847\n",
      "Data columns (total 14 columns):\n",
      "Snapshot ID        187848 non-null int64\n",
      "Snapshot Date      187848 non-null datetime64[ns]\n",
      "Checkin Date       187848 non-null datetime64[ns]\n",
      "Days               187848 non-null int64\n",
      "Original Price     187848 non-null int64\n",
      "Discount Price     187848 non-null int64\n",
      "Discount Code      187848 non-null int64\n",
      "Available Rooms    187848 non-null int64\n",
      "Hotel Name         187848 non-null object\n",
      "Hotel Stars        187848 non-null int64\n",
      "DayDiff            187848 non-null int64\n",
      "WeekDay            187848 non-null object\n",
      "DiscountDiff       187848 non-null int64\n",
      "DiscountPerc       187848 non-null float64\n",
      "dtypes: datetime64[ns](2), float64(1), int64(9), object(2)\n",
      "memory usage: 20.1+ MB\n",
      "None\n",
      "________________________________________________________________________________\n",
      "         Snapshot ID      Days  Original Price  Discount Price  Discount Code  \\\n",
      "count  187848.000000  187848.0   187848.000000   187848.000000  187848.000000   \n",
      "mean      351.643451       5.0     1825.742143     1673.172283       2.434186   \n",
      "std      1007.348927       0.0     1042.355712      983.618013       1.005191   \n",
      "min         1.000000       5.0      289.000000      260.000000       1.000000   \n",
      "25%       150.000000       5.0     1160.000000     1035.000000       2.000000   \n",
      "50%       439.000000       5.0     1599.000000     1475.000000       2.000000   \n",
      "75%       506.000000       5.0     2160.000000     1963.250000       3.000000   \n",
      "max    417419.000000       5.0    29975.000000    28675.000000       4.000000   \n",
      "\n",
      "       Available Rooms    Hotel Stars        DayDiff   DiscountDiff  \\\n",
      "count    187848.000000  187848.000000  187848.000000  187848.000000   \n",
      "mean         14.588561       3.905823      17.465685     152.569860   \n",
      "std          41.575482       0.846496      10.040225     143.316985   \n",
      "min          -1.000000       0.000000       1.000000      15.000000   \n",
      "25%          -1.000000       3.000000       9.000000      70.000000   \n",
      "50%          -1.000000       4.000000      18.000000     103.000000   \n",
      "75%           8.000000       4.000000      26.000000     180.000000   \n",
      "max         431.000000       5.000000      34.000000    3760.000000   \n",
      "\n",
      "        DiscountPerc  \n",
      "count  187848.000000  \n",
      "mean        8.877715  \n",
      "std         6.030248  \n",
      "min         0.581395  \n",
      "25%         4.844961  \n",
      "50%         7.056229  \n",
      "75%        10.933941  \n",
      "max        68.425842  \n",
      "________________________________________________________________________________\n",
      "   Snapshot ID Snapshot Date Checkin Date  Days  Original Price  \\\n",
      "0            1    2015-07-17   2015-08-12     5            1178   \n",
      "1            1    2015-07-17   2015-08-19     5            1113   \n",
      "2            1    2015-07-17   2015-08-13     5            4370   \n",
      "3            1    2015-07-17   2015-07-26     5            1739   \n",
      "4            1    2015-07-17   2015-08-12     5            1739   \n",
      "\n",
      "   Discount Price  Discount Code  Available Rooms  \\\n",
      "0            1040              1                6   \n",
      "1             982              1                8   \n",
      "2            4240              1                3   \n",
      "3            1667              1               18   \n",
      "4            1672              1                3   \n",
      "\n",
      "                               Hotel Name  Hotel Stars  DayDiff WeekDay  \\\n",
      "0  Best Western Plus Seaport Inn Downtown            3       26     Wed   \n",
      "1  Best Western Plus Seaport Inn Downtown            3       33     Wed   \n",
      "2                  The Peninsula New York            5       27     Thu   \n",
      "3            Eventi Hotel a Kimpton Hotel            4        9     Sun   \n",
      "4            Eventi Hotel a Kimpton Hotel            4       26     Wed   \n",
      "\n",
      "   DiscountDiff  DiscountPerc  \n",
      "0           138     11.714771  \n",
      "1           131     11.769991  \n",
      "2           130      2.974828  \n",
      "3            72      4.140311  \n",
      "4            67      3.852789  \n"
     ]
    }
   ],
   "source": [
    "print(hotels_df.info())\n",
    "print('_'*80)\n",
    "print (hotels_df.describe())\n",
    "print('_'*80)\n",
    "print(hotels_df.head())\n",
    "\n",
    "hotels_df.to_csv(\"./input/Hotels_data_Changed.csv\", encoding = \"utf8\")"
   ]
  },
  {
   "cell_type": "markdown",
   "metadata": {},
   "source": [
    "### Data Exploration\n",
    "\n",
    "We need to remember that we want to predict the discount code that will give us the max discount.\n",
    "\n",
    "Let's investigate the correlation between the different features, and the required predicted column - the discount code"
   ]
  },
  {
   "cell_type": "code",
   "execution_count": 20,
   "metadata": {
    "scrolled": true
   },
   "outputs": [
    {
     "name": "stdout",
     "output_type": "stream",
     "text": [
      "Snapshot ID              0.026398\n",
      "Days                          NaN\n",
      "Original Price          -0.151366\n",
      "Discount Price          -0.258325\n",
      "Discount Code           -0.036223\n",
      "Available Rooms         -0.092789\n",
      "Hotel Stars             -0.090960\n",
      "DayDiff                 -0.018199\n",
      "DiscountDiff             0.672048\n",
      "DiscountPerc             1.000000\n",
      "Hotel ID                -0.076962\n",
      "Checkin Date Ordinal     0.166905\n",
      "Snapshot Date Ordinal    0.172947\n",
      "WeekDayNum              -0.054560\n",
      "Name: DiscountPerc, dtype: float64\n"
     ]
    }
   ],
   "source": [
    "# Here will be data exploration\n",
    "corr_df = hotels_df\n",
    "corr_df[\"Hotel ID\"] = corr_df[\"Hotel Name\"].factorize()[0]\n",
    "corr_df[\"Checkin Date Ordinal\"] = pd.to_datetime(corr_df[\"Checkin Date\"]).apply(lambda x: x.toordinal())\n",
    "corr_df[\"Snapshot Date Ordinal\"] = pd.to_datetime(corr_df[\"Snapshot Date\"]).apply(lambda x: x.toordinal())\n",
    "\n",
    "corr_df[\"WeekDayNum\"] = corr_df[\"WeekDay\"].factorize()[0]\n",
    "print (corr_df.corr()[\"DiscountPerc\"])"
   ]
  },
  {
   "cell_type": "markdown",
   "metadata": {},
   "source": [
    "As we can see, we don't have strong linear correlation between the features to the discount percentage.\n",
    "Thus, The relation is not linear.\n",
    "\n",
    "We'll try to find a correlation between the maximum discount for each Week day, Snapshot Date, Check in Date, The Difference between Snapshot date and Checkin in days, and the hotel name"
   ]
  },
  {
   "cell_type": "code",
   "execution_count": 21,
   "metadata": {
    "scrolled": true
   },
   "outputs": [],
   "source": [
    "hotels_formatted = pd.read_csv(\"./input/Hotels_data_Changed.csv\", encoding = \"utf8\")\n",
    "\n",
    "maxDiscount = hotels_formatted.groupby([\"WeekDay\", \"Snapshot Date\", \"Checkin Date\", \"DayDiff\", \"Hotel Name\"])[\"DiscountPerc\"].max()\n",
    "\n",
    "maxDiscount = maxDiscount.to_frame().reset_index()\n",
    "mergedResult = pd.merge(maxDiscount, hotels_formatted, left_on=['WeekDay', \"Snapshot Date\", \"Checkin Date\", \"DayDiff\", \"Hotel Name\", \"DiscountPerc\"],\n",
    "                        right_on=['WeekDay', \"Snapshot Date\", \"Checkin Date\", \"DayDiff\", \"Hotel Name\", \"DiscountPerc\"])\n",
    "\n",
    "mergedResult[['WeekDay', \"Snapshot Date\", \"Checkin Date\", \"DayDiff\", \"Hotel Name\", \"Discount Code\"]].to_csv(\"./input/max_discounts.csv\", encoding=\"utf8\")"
   ]
  },
  {
   "cell_type": "markdown",
   "metadata": {},
   "source": [
    "Let's try to see if we have a correlation between the Weekday and the maximum discount code"
   ]
  },
  {
   "cell_type": "code",
   "execution_count": 22,
   "metadata": {
    "scrolled": true
   },
   "outputs": [
    {
     "data": {
      "text/plain": [
       "<seaborn.axisgrid.FacetGrid at 0x28205383908>"
      ]
     },
     "execution_count": 22,
     "metadata": {},
     "output_type": "execute_result"
    },
    {
     "data": {
      "image/png": "[encoded data removed]",
      "text/plain": [
       "<matplotlib.figure.Figure at 0x282053839e8>"
      ]
     },
     "metadata": {},
     "output_type": "display_data"
    }
   ],
   "source": [
    "g = sns.FacetGrid(mergedResult, col='Discount Code')\n",
    "g.map(plt.hist, 'WeekDay', bins=20)"
   ]
  },
  {
   "cell_type": "markdown",
   "metadata": {},
   "source": [
    "We can see that discount code 4 is the most least used in each day, and on average, in the middle of the week (Tue, Wed) Discount codes 1&2 are more used than 3. Not enough information though.\n",
    "\n",
    "Let's check for a total correlation between the columns."
   ]
  },
  {
   "cell_type": "code",
   "execution_count": 23,
   "metadata": {},
   "outputs": [
    {
     "name": "stdout",
     "output_type": "stream",
     "text": [
      "DayDiff                 -0.014849\n",
      "DiscountPerc             1.000000\n",
      "Unnamed: 0               0.146411\n",
      "Snapshot ID              0.084118\n",
      "Days                          NaN\n",
      "Original Price          -0.114407\n",
      "Discount Price          -0.233243\n",
      "Discount Code           -0.027188\n",
      "Available Rooms         -0.082800\n",
      "Hotel Stars             -0.075999\n",
      "DiscountDiff             0.680349\n",
      "Hotel ID                 0.017336\n",
      "Checkin Date Ordinal     0.169321\n",
      "Snapshot Date Ordinal    0.174770\n",
      "WeekDayNum               0.057380\n",
      "Name: DiscountPerc, dtype: float64\n"
     ]
    }
   ],
   "source": [
    "# Here will be data exploration\n",
    "corr_df = mergedResult\n",
    "corr_df[\"Hotel ID\"] = corr_df[\"Hotel Name\"].factorize()[0]\n",
    "corr_df[\"Checkin Date Ordinal\"] = pd.to_datetime(corr_df[\"Checkin Date\"]).apply(lambda x: x.toordinal())\n",
    "corr_df[\"Snapshot Date Ordinal\"] = pd.to_datetime(corr_df[\"Snapshot Date\"]).apply(lambda x: x.toordinal())\n",
    "\n",
    "corr_df[\"WeekDayNum\"] = corr_df[\"WeekDay\"].factorize()[0]\n",
    "print (corr_df.corr()[\"DiscountPerc\"])"
   ]
  },
  {
   "cell_type": "markdown",
   "metadata": {},
   "source": [
    "We can see a really bad linear correlation between the columns...\n",
    "\n",
    "### Normalization\n",
    "Now, we will normalize the data to a 0&1 binary table: Each hotel will become a column, and each snapshot date and checkin date will also become a separate column. we do that in order to improve the accuracy of the ML models we will run shortly."
   ]
  },
  {
   "cell_type": "code",
   "execution_count": 24,
   "metadata": {},
   "outputs": [],
   "source": [
    "from sklearn import metrics\n",
    "from sklearn.cross_validation import train_test_split\n",
    "\n",
    "raw_data = pd.read_csv(\"./input/max_discounts.csv\")\n",
    "hotels = pd.get_dummies(raw_data[\"Hotel Name\"]).add_prefix('Hotel_Name_')\n",
    "raw_data = raw_data.join(hotels)\n",
    "raw_data = raw_data.drop('Hotel Name', axis=1)\n",
    "raw_data[\"Snapshot year\"] = pd.to_datetime(raw_data[\"Snapshot Date\"]).dt.year.factorize()[0]\n",
    "raw_data[\"Snapshot month\"] = pd.to_datetime(raw_data[\"Snapshot Date\"]).dt.month\n",
    "raw_data[\"Snapshot day\"] = pd.to_datetime(raw_data[\"Snapshot Date\"]).dt.day\n",
    "raw_data[\"Checkin year\"] = pd.to_datetime(raw_data[\"Checkin Date\"]).dt.year.factorize()[0]\n",
    "raw_data[\"Checkin month\"] = pd.to_datetime(raw_data[\"Checkin Date\"]).dt.month\n",
    "raw_data[\"Checkin day\"] = pd.to_datetime(raw_data[\"Checkin Date\"]).dt.day\n",
    "\n",
    "raw_data[\"Weekday ID\"] = raw_data[\"WeekDay\"].factorize()[0]\n",
    "weekdays = pd.get_dummies(raw_data[\"Weekday ID\"]).add_prefix('Weekday_')\n",
    "raw_data = raw_data.join(weekdays)\n",
    "raw_data = raw_data.drop('Weekday ID', axis=1)\n",
    "# raw_data.to_csv('raw.csv', index = False)\n",
    "X = raw_data.drop([\"Snapshot Date\", \"Checkin Date\", \"WeekDay\", \"Discount Code\"], axis=1)\n",
    "\n",
    "X_train, X_test, Y_train, Y_test = train_test_split(X, raw_data[[\"Discount Code\"]])"
   ]
  },
  {
   "cell_type": "markdown",
   "metadata": {},
   "source": [
    "Let's see the structure of the training data"
   ]
  },
  {
   "cell_type": "code",
   "execution_count": 6,
   "metadata": {},
   "outputs": [
    {
     "name": "stdout",
     "output_type": "stream",
     "text": [
      "<class 'pandas.core.frame.DataFrame'>\n",
      "Int64Index: 86937 entries, 77643 to 35452\n",
      "Columns: 569 entries, Unnamed: 0 to Weekday_6\n",
      "dtypes: int64(8), uint8(561)\n",
      "memory usage: 52.5 MB\n",
      "None\n"
     ]
    }
   ],
   "source": [
    "print (X_train.info())"
   ]
  },
  {
   "cell_type": "markdown",
   "metadata": {},
   "source": [
    "### Decision Tree model\n",
    "\n",
    "Now, after we formatted and normalized the data, we will try to fit a decision tree model for it.\n",
    "Let's check the accuracy of the prediction!"
   ]
  },
  {
   "cell_type": "code",
   "execution_count": 25,
   "metadata": {},
   "outputs": [
    {
     "name": "stdout",
     "output_type": "stream",
     "text": [
      "0.712930052797\n"
     ]
    }
   ],
   "source": [
    "# Decision Tree Classifier\n",
    "from sklearn.tree import DecisionTreeClassifier\n",
    "\n",
    "treeModel = DecisionTreeClassifier()\n",
    "treeModel.fit(X_train, Y_train)\n",
    "\n",
    "treePredicted = treeModel.predict(X_test)\n",
    "treeExpected = Y_test\n",
    "\n",
    "print (metrics.accuracy_score(treeExpected, treePredicted))"
   ]
  },
  {
   "cell_type": "markdown",
   "metadata": {},
   "source": [
    "73%. Not bad..\n",
    "\n",
    "### Naive Bayes model\n",
    "We will try to fit a naive bayes clasiffier to our data."
   ]
  },
  {
   "cell_type": "code",
   "execution_count": 26,
   "metadata": {},
   "outputs": [
    {
     "name": "stdout",
     "output_type": "stream",
     "text": [
      "0.332965250699\n"
     ]
    }
   ],
   "source": [
    "# Gaussian Naive Bayes\n",
    "from sklearn.naive_bayes import GaussianNB\n",
    "\n",
    "model = GaussianNB()\n",
    "model.fit(X_train, Y_train.values.ravel())\n",
    "\n",
    "print (model.score(X_test, Y_test))"
   ]
  },
  {
   "cell_type": "markdown",
   "metadata": {},
   "source": [
    "We got only 35.2% accuracy. We can assume that this is not the best model to predict this type of data.\n",
    "The bad correlation between the columns can explain it."
   ]
  },
  {
   "cell_type": "markdown",
   "metadata": {},
   "source": [
    "## Clustering\n",
    "\n",
    "Now, We will try to cluster the top 150 hotels in the top 40 checkin dates using hierarchical clustering.\n",
    "\n",
    "First we will order by the hotels count and take the top 150.\n",
    "Then, again we will sort by checkin dates and will take the top 40 Checkin dates."
   ]
  },
  {
   "cell_type": "code",
   "execution_count": 31,
   "metadata": {
    "scrolled": false
   },
   "outputs": [
    {
     "name": "stdout",
     "output_type": "stream",
     "text": [
      "          Unnamed: 0    Snapshot ID     Days  Original Price  Discount Price  \\\n",
      "count   60423.000000   60423.000000  60423.0    60423.000000    60423.000000   \n",
      "mean    81414.434768     350.668471      5.0     1883.680469     1723.842378   \n",
      "std     44612.541210    1736.060796      0.0      994.130362      936.201756   \n",
      "min         2.000000       1.000000      5.0      372.000000      332.000000   \n",
      "25%     46117.500000     182.000000      5.0     1260.000000     1138.000000   \n",
      "50%     83807.000000     435.000000      5.0     1688.000000     1542.000000   \n",
      "75%    109761.500000     472.000000      5.0     2179.000000     1976.500000   \n",
      "max    187841.000000  417419.000000      5.0    10625.000000    10500.000000   \n",
      "\n",
      "       Discount Code  Available Rooms   Hotel Stars       DayDiff  \\\n",
      "count   60423.000000     60423.000000  60423.000000  60423.000000   \n",
      "mean        2.465468        16.063933      3.950284     17.699618   \n",
      "std         1.002378        42.610211      0.792335      9.804967   \n",
      "min         1.000000        -1.000000      1.000000      1.000000   \n",
      "25%         2.000000        -1.000000      4.000000      9.000000   \n",
      "50%         2.000000        -1.000000      4.000000     18.000000   \n",
      "75%         3.000000         9.000000      4.000000     26.000000   \n",
      "max         4.000000       383.000000      5.000000     34.000000   \n",
      "\n",
      "       DiscountDiff  DiscountPerc  \n",
      "count  60423.000000  60423.000000  \n",
      "mean     159.838091      8.897668  \n",
      "std      142.491933      5.755038  \n",
      "min       20.000000      1.111111  \n",
      "25%       75.000000      4.945455  \n",
      "50%      117.000000      7.277628  \n",
      "75%      196.000000     11.070860  \n",
      "max     2900.000000     54.636591  \n"
     ]
    }
   ],
   "source": [
    "# Clustring\n",
    "\n",
    "ordered_hotels = pd.read_csv(\"./input/Hotels_data_Changed.csv\", encoding = \"utf8\")\n",
    "hotel_count = ordered_hotels.groupby(\"Hotel Name\").size().reset_index(name=\"counts\")\n",
    "hotel_count = hotel_count.sort_values(\"counts\", ascending=False).head(150)[[\"Hotel Name\"]]\n",
    "ordered_hotels = pd.merge(left = hotel_count, right=ordered_hotels,left_on=\"Hotel Name\", right_on=\"Hotel Name\")\n",
    "date_count = ordered_hotels.groupby(\"Checkin Date\").size().reset_index(name=\"counts\")\n",
    "date_count = date_count.sort_values(\"counts\", ascending=False).head(40)[[\"Checkin Date\"]]\n",
    "ordered_hotels = pd.merge(left=date_count, right=ordered_hotels, left_on=\"Checkin Date\", right_on=\"Checkin Date\")\n",
    "\n",
    "print(ordered_hotels.describe())\n",
    "\n"
   ]
  },
  {
   "cell_type": "markdown",
   "metadata": {},
   "source": [
    "### Data Preprocessing\n",
    "\n",
    "We will take the dataframe and process it in order to fit it to the hierarchical clustering algorithm.\n",
    "First, we will choose the minimal discount price for each hotel for each checkin date.\n",
    "After that, we will pivot the df that each row will represent a hotel, with 160 columns, each represent a combination of a checkin date and a discount code (40 * 4 = 160).\n",
    "Then, we will normalize the discount price for each hotel using a min max scaler - for a range of 0-100.\n",
    "For every empty value, we will fill -1.\n",
    "\n",
    "Finally, we will save that df to a csv."
   ]
  },
  {
   "cell_type": "code",
   "execution_count": 32,
   "metadata": {},
   "outputs": [
    {
     "name": "stderr",
     "output_type": "stream",
     "text": [
      "c:\\users\\itay gabbay\\appdata\\local\\programs\\python\\python35\\lib\\site-packages\\sklearn\\utils\\validation.py:429: DataConversionWarning: Data with input dtype int64 was converted to float64 by MinMaxScaler.\n",
      "  warnings.warn(msg, _DataConversionWarning)\n"
     ]
    }
   ],
   "source": [
    "from sklearn import preprocessing\n",
    "\n",
    "#Creating the clustered data frame\n",
    "min_price = ordered_hotels.groupby([\"Checkin Date\", \"Hotel Name\", \"Discount Code\"])[\"Discount Price\"].min()\n",
    "\n",
    "min_price = min_price.to_frame().reset_index()\n",
    "\n",
    "# Normalization\n",
    "def normalize(x):\n",
    "    min_max_scaler = preprocessing.MinMaxScaler(feature_range=(0, 100))\n",
    "    return pd.Series(min_max_scaler.fit_transform(x.values), index=x.index)\n",
    "\n",
    "hotelPrices = min_price.groupby(\"Hotel Name\")[\"Discount Price\"]\n",
    "# hotelPrices = hote\n",
    "# print (min_price.loc[min_price[\"Hotel Name\"] == \"Hampton Inn Times Square North\"].sort_values(\"Discount Price\", ascending=False))\n",
    "hotelPrices = hotelPrices.apply(normalize)\n",
    "min_price[\"Discount Price\"] = hotelPrices\n",
    "# print (min_price.loc[min_price[\"Hotel Name\"] == \"Hampton Inn Times Square North\"].sort_values(\"Discount Price\", ascending=False))\n",
    "pivot = pd.pivot_table(min_price, values='Discount Price', columns=[\"Checkin Date\", \"Discount Code\"], index=[\"Hotel Name\"])\n",
    "pivot = pivot.fillna(-1)\n",
    "pivot.to_csv(\"./input/datatocluster.csv\", encoding = \"utf8\")"
   ]
  },
  {
   "cell_type": "markdown",
   "metadata": {},
   "source": [
    "## Hierarchical Clustering algorithm\n",
    "\n",
    "Now, we will run hierarchical clustering on the processes data, and try to figure out which hotels are similar in the discount policies.\n",
    "\n",
    "We will do that using scipy and the output will be a dendogram of the clusters.\n",
    "\n",
    "First it calculates the linkage matrix between the rows. The structure of the matrix is 149 * 4 - and each row represents a connection between to clusters: the first column is the first cluster index, the second column is second cluster index, the third column is the distance between the clusters, and the fourth is the number of clusters in this new cluster.\n",
    "\n",
    "Let's check different distance methods to determine which is the best for us to use:\n"
   ]
  },
  {
   "cell_type": "code",
   "execution_count": 82,
   "metadata": {},
   "outputs": [
    {
     "name": "stdout",
     "output_type": "stream",
     "text": [
      "Ward:0.629186832394\n",
      "Complete:0.793266849953\n",
      "Single:0.834549202662\n",
      "Average:0.880087929937\n",
      "Weighted:0.803590421006\n"
     ]
    }
   ],
   "source": [
    "from scipy.cluster.hierarchy import cophenet\n",
    "from scipy.spatial.distance import pdist\n",
    "from scipy.cluster.hierarchy import dendrogram, linkage\n",
    "\n",
    "ward = linkage(pivot, 'ward')\n",
    "wardc, coph_dists = cophenet(ward, pdist(pivot))\n",
    "complete = linkage(pivot, 'complete')\n",
    "completec, coph_dists = cophenet(complete, pdist(pivot))\n",
    "single = linkage(pivot, 'single')\n",
    "singlec, coph_dists = cophenet(single, pdist(pivot))\n",
    "average = linkage(pivot, 'average')\n",
    "averagec, coph_dists = cophenet(average, pdist(pivot))\n",
    "weighted = linkage(pivot, 'weighted')\n",
    "weightedc, coph_dists = cophenet(weighted, pdist(pivot))\n",
    "\n",
    "print('Ward:' + str(wardc))\n",
    "print('Complete:' + str(completec))\n",
    "print('Single:' + str(singlec))\n",
    "print('Average:' + str(averagec))\n",
    "print('Weighted:' + str(weightedc))"
   ]
  },
  {
   "cell_type": "markdown",
   "metadata": {},
   "source": [
    "As we can see, the average distance method, which is decribed by the average of distances between all the features from cluster a to cluster b, gives us the best Cophenetic Correlation Coefficient (The more closer to 1 - the better).\n",
    "Which means it highly preserves the original distances between the clusters.\n",
    "\n",
    "Now, we will draw a dendogram of the average linkage matrix:\n"
   ]
  },
  {
   "cell_type": "code",
   "execution_count": 83,
   "metadata": {},
   "outputs": [
    {
     "data": {
      "image/png": "[encoded data removed]",
      "text/plain": [
       "<matplotlib.figure.Figure at 0x2820d1b5eb8>"
      ]
     },
     "metadata": {},
     "output_type": "display_data"
    }
   ],
   "source": [
    "# calculate full dendrogram\n",
    "plt.figure(figsize=(25, 10))\n",
    "plt.title('Hierarchical Clustering Dendrogram')\n",
    "plt.xlabel('sample index')\n",
    "plt.ylabel('distance')\n",
    "dendrogram(\n",
    "    average,\n",
    "    leaf_rotation=90.,  # rotates the x axis labels\n",
    "    leaf_font_size=8.,  # font size for the x axis labels\n",
    "    truncate_mode='lastp',  # show only the last p merged clusters\n",
    "    p=50,  # show only the last p merged clusters\n",
    "    show_contracted=True,  # to get a distribution impression in truncated branches\n",
    ")\n",
    "plt.show()\n"
   ]
  },
  {
   "cell_type": "code",
   "execution_count": null,
   "metadata": {},
   "outputs": [],
   "source": []
  },
  {
   "cell_type": "code",
   "execution_count": 77,
   "metadata": {},
   "outputs": [
    {
     "name": "stdout",
     "output_type": "stream",
     "text": [
      "0.629186832394\n"
     ]
    }
   ],
   "source": []
  }
 ],
 "metadata": {
  "celltoolbar": "Raw Cell Format",
  "kernelspec": {
   "display_name": "Python 3",
   "language": "python",
   "name": "python3"
  },
  "language_info": {
   "codemirror_mode": {
    "name": "ipython",
    "version": 3
   },
   "file_extension": ".py",
   "mimetype": "text/x-python",
   "name": "python",
   "nbconvert_exporter": "python",
   "pygments_lexer": "ipython3",
   "version": "3.5.2"
  }
 },
 "nbformat": 4,
 "nbformat_minor": 2
}
